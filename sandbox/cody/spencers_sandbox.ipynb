{
 "cells": [
  {
   "cell_type": "markdown",
   "id": "60d0380d-45b9-4465-a40a-15de74da4f3e",
   "metadata": {},
   "source": [
    "#### imports"
   ]
  },
  {
   "cell_type": "code",
   "execution_count": 1,
   "id": "51aa69c0-f53f-468e-8cd4-c34eb4df324d",
   "metadata": {},
   "outputs": [],
   "source": [
    "import pandas as pd\n",
    "import numpy as np\n",
    "import matplotlib.pyplot as plt\n",
    "import seaborn as sns"
   ]
  },
  {
   "cell_type": "markdown",
   "id": "6356d4f2-adaa-44e0-bae2-c43cc744e58f",
   "metadata": {},
   "source": [
    "---"
   ]
  },
  {
   "cell_type": "markdown",
   "id": "6384d759-e4e0-4465-b5ca-f534a767f308",
   "metadata": {},
   "source": [
    "### data"
   ]
  },
  {
   "cell_type": "code",
   "execution_count": 14,
   "id": "c6fcb372-acdd-4ed6-9cbb-1e6c31c6be1d",
   "metadata": {},
   "outputs": [],
   "source": [
    "df_companies = pd.read_csv('data/sp500_companies.csv')\n",
    "df_index = pd.read_csv('data/sp500_index.csv')\n",
    "df_stocks = pd.read_csv('data/sp500_stocks.csv')"
   ]
  },
  {
   "cell_type": "markdown",
   "id": "24959148-ebd6-4da6-b49b-fc1dec6d9761",
   "metadata": {},
   "source": [
    "---"
   ]
  },
  {
   "cell_type": "code",
   "execution_count": 15,
   "id": "85539cf3-e781-4feb-b934-ef118fb14e62",
   "metadata": {},
   "outputs": [
    {
     "data": {
      "text/html": [
       "<div>\n",
       "<style scoped>\n",
       "    .dataframe tbody tr th:only-of-type {\n",
       "        vertical-align: middle;\n",
       "    }\n",
       "\n",
       "    .dataframe tbody tr th {\n",
       "        vertical-align: top;\n",
       "    }\n",
       "\n",
       "    .dataframe thead th {\n",
       "        text-align: right;\n",
       "    }\n",
       "</style>\n",
       "<table border=\"1\" class=\"dataframe\">\n",
       "  <thead>\n",
       "    <tr style=\"text-align: right;\">\n",
       "      <th></th>\n",
       "      <th>Exchange</th>\n",
       "      <th>Symbol</th>\n",
       "      <th>Shortname</th>\n",
       "      <th>Longname</th>\n",
       "      <th>Sector</th>\n",
       "      <th>Industry</th>\n",
       "      <th>Currentprice</th>\n",
       "      <th>Marketcap</th>\n",
       "      <th>Ebitda</th>\n",
       "      <th>Revenuegrowth</th>\n",
       "      <th>City</th>\n",
       "      <th>State</th>\n",
       "      <th>Country</th>\n",
       "      <th>Fulltimeemployees</th>\n",
       "      <th>Longbusinesssummary</th>\n",
       "      <th>Weight</th>\n",
       "    </tr>\n",
       "  </thead>\n",
       "  <tbody>\n",
       "    <tr>\n",
       "      <th>0</th>\n",
       "      <td>NMS</td>\n",
       "      <td>AAPL</td>\n",
       "      <td>Apple Inc.</td>\n",
       "      <td>Apple Inc.</td>\n",
       "      <td>Technology</td>\n",
       "      <td>Consumer Electronics</td>\n",
       "      <td>254.49</td>\n",
       "      <td>3846819807232</td>\n",
       "      <td>1.346610e+11</td>\n",
       "      <td>0.061</td>\n",
       "      <td>Cupertino</td>\n",
       "      <td>CA</td>\n",
       "      <td>United States</td>\n",
       "      <td>164000.0</td>\n",
       "      <td>Apple Inc. designs, manufactures, and markets ...</td>\n",
       "      <td>0.069209</td>\n",
       "    </tr>\n",
       "    <tr>\n",
       "      <th>1</th>\n",
       "      <td>NMS</td>\n",
       "      <td>NVDA</td>\n",
       "      <td>NVIDIA Corporation</td>\n",
       "      <td>NVIDIA Corporation</td>\n",
       "      <td>Technology</td>\n",
       "      <td>Semiconductors</td>\n",
       "      <td>134.70</td>\n",
       "      <td>3298803056640</td>\n",
       "      <td>6.118400e+10</td>\n",
       "      <td>1.224</td>\n",
       "      <td>Santa Clara</td>\n",
       "      <td>CA</td>\n",
       "      <td>United States</td>\n",
       "      <td>29600.0</td>\n",
       "      <td>NVIDIA Corporation provides graphics and compu...</td>\n",
       "      <td>0.059350</td>\n",
       "    </tr>\n",
       "  </tbody>\n",
       "</table>\n",
       "</div>"
      ],
      "text/plain": [
       "  Exchange Symbol           Shortname            Longname      Sector  \\\n",
       "0      NMS   AAPL          Apple Inc.          Apple Inc.  Technology   \n",
       "1      NMS   NVDA  NVIDIA Corporation  NVIDIA Corporation  Technology   \n",
       "\n",
       "               Industry  Currentprice      Marketcap        Ebitda  \\\n",
       "0  Consumer Electronics        254.49  3846819807232  1.346610e+11   \n",
       "1        Semiconductors        134.70  3298803056640  6.118400e+10   \n",
       "\n",
       "   Revenuegrowth         City State        Country  Fulltimeemployees  \\\n",
       "0          0.061    Cupertino    CA  United States           164000.0   \n",
       "1          1.224  Santa Clara    CA  United States            29600.0   \n",
       "\n",
       "                                 Longbusinesssummary    Weight  \n",
       "0  Apple Inc. designs, manufactures, and markets ...  0.069209  \n",
       "1  NVIDIA Corporation provides graphics and compu...  0.059350  "
      ]
     },
     "execution_count": 15,
     "metadata": {},
     "output_type": "execute_result"
    }
   ],
   "source": [
    "df_companies.head()[:2]"
   ]
  },
  {
   "cell_type": "code",
   "execution_count": 16,
   "id": "650e3b74-238b-481f-a07a-2546b866a67c",
   "metadata": {},
   "outputs": [
    {
     "data": {
      "text/plain": [
       "Exchange                object\n",
       "Symbol                  object\n",
       "Shortname               object\n",
       "Longname                object\n",
       "Sector                  object\n",
       "Industry                object\n",
       "Currentprice           float64\n",
       "Marketcap                int64\n",
       "Ebitda                 float64\n",
       "Revenuegrowth          float64\n",
       "City                    object\n",
       "State                   object\n",
       "Country                 object\n",
       "Fulltimeemployees      float64\n",
       "Longbusinesssummary     object\n",
       "Weight                 float64\n",
       "dtype: object"
      ]
     },
     "execution_count": 16,
     "metadata": {},
     "output_type": "execute_result"
    }
   ],
   "source": [
    "df_companies.dtypes"
   ]
  },
  {
   "cell_type": "code",
   "execution_count": 17,
   "id": "04a9980a-50cf-4cbe-97f8-984ed7c620dd",
   "metadata": {},
   "outputs": [
    {
     "data": {
      "text/html": [
       "<div>\n",
       "<style scoped>\n",
       "    .dataframe tbody tr th:only-of-type {\n",
       "        vertical-align: middle;\n",
       "    }\n",
       "\n",
       "    .dataframe tbody tr th {\n",
       "        vertical-align: top;\n",
       "    }\n",
       "\n",
       "    .dataframe thead th {\n",
       "        text-align: right;\n",
       "    }\n",
       "</style>\n",
       "<table border=\"1\" class=\"dataframe\">\n",
       "  <thead>\n",
       "    <tr style=\"text-align: right;\">\n",
       "      <th></th>\n",
       "      <th>Date</th>\n",
       "      <th>S&amp;P500</th>\n",
       "    </tr>\n",
       "  </thead>\n",
       "  <tbody>\n",
       "    <tr>\n",
       "      <th>0</th>\n",
       "      <td>2014-12-22</td>\n",
       "      <td>2078.54</td>\n",
       "    </tr>\n",
       "    <tr>\n",
       "      <th>1</th>\n",
       "      <td>2014-12-23</td>\n",
       "      <td>2082.17</td>\n",
       "    </tr>\n",
       "  </tbody>\n",
       "</table>\n",
       "</div>"
      ],
      "text/plain": [
       "         Date   S&P500\n",
       "0  2014-12-22  2078.54\n",
       "1  2014-12-23  2082.17"
      ]
     },
     "execution_count": 17,
     "metadata": {},
     "output_type": "execute_result"
    }
   ],
   "source": [
    "df_index[:2]"
   ]
  },
  {
   "cell_type": "code",
   "execution_count": 18,
   "id": "90940186-9c36-4e60-b9e8-be254954decb",
   "metadata": {},
   "outputs": [
    {
     "data": {
      "text/plain": [
       "Date       object\n",
       "S&P500    float64\n",
       "dtype: object"
      ]
     },
     "execution_count": 18,
     "metadata": {},
     "output_type": "execute_result"
    }
   ],
   "source": [
    "df_index.dtypes"
   ]
  },
  {
   "cell_type": "code",
   "execution_count": 19,
   "id": "8a7054d0-4793-4759-89c2-d023a8ce2c33",
   "metadata": {},
   "outputs": [],
   "source": [
    "df_index['date'] = pd.to_datetime(df_index.Date) # creating a new column called \"date\" that is in pandas datetime format"
   ]
  },
  {
   "cell_type": "code",
   "execution_count": 20,
   "id": "f583f936-81ca-4246-ba14-1c4c61ed2352",
   "metadata": {},
   "outputs": [
    {
     "data": {
      "text/plain": [
       "Date              object\n",
       "S&P500           float64\n",
       "date      datetime64[ns]\n",
       "dtype: object"
      ]
     },
     "execution_count": 20,
     "metadata": {},
     "output_type": "execute_result"
    }
   ],
   "source": [
    "df_index.dtypes"
   ]
  },
  {
   "cell_type": "code",
   "execution_count": 22,
   "id": "487399ed-441e-4af3-85a3-687156d193ae",
   "metadata": {},
   "outputs": [
    {
     "data": {
      "text/html": [
       "<div>\n",
       "<style scoped>\n",
       "    .dataframe tbody tr th:only-of-type {\n",
       "        vertical-align: middle;\n",
       "    }\n",
       "\n",
       "    .dataframe tbody tr th {\n",
       "        vertical-align: top;\n",
       "    }\n",
       "\n",
       "    .dataframe thead th {\n",
       "        text-align: right;\n",
       "    }\n",
       "</style>\n",
       "<table border=\"1\" class=\"dataframe\">\n",
       "  <thead>\n",
       "    <tr style=\"text-align: right;\">\n",
       "      <th></th>\n",
       "      <th>Date</th>\n",
       "      <th>Symbol</th>\n",
       "      <th>Adj Close</th>\n",
       "      <th>Close</th>\n",
       "      <th>High</th>\n",
       "      <th>Low</th>\n",
       "      <th>Open</th>\n",
       "      <th>Volume</th>\n",
       "    </tr>\n",
       "  </thead>\n",
       "  <tbody>\n",
       "    <tr>\n",
       "      <th>0</th>\n",
       "      <td>2010-01-04</td>\n",
       "      <td>MMM</td>\n",
       "      <td>NaN</td>\n",
       "      <td>NaN</td>\n",
       "      <td>NaN</td>\n",
       "      <td>NaN</td>\n",
       "      <td>NaN</td>\n",
       "      <td>NaN</td>\n",
       "    </tr>\n",
       "    <tr>\n",
       "      <th>1</th>\n",
       "      <td>2010-01-05</td>\n",
       "      <td>MMM</td>\n",
       "      <td>NaN</td>\n",
       "      <td>NaN</td>\n",
       "      <td>NaN</td>\n",
       "      <td>NaN</td>\n",
       "      <td>NaN</td>\n",
       "      <td>NaN</td>\n",
       "    </tr>\n",
       "    <tr>\n",
       "      <th>2</th>\n",
       "      <td>2010-01-06</td>\n",
       "      <td>MMM</td>\n",
       "      <td>NaN</td>\n",
       "      <td>NaN</td>\n",
       "      <td>NaN</td>\n",
       "      <td>NaN</td>\n",
       "      <td>NaN</td>\n",
       "      <td>NaN</td>\n",
       "    </tr>\n",
       "  </tbody>\n",
       "</table>\n",
       "</div>"
      ],
      "text/plain": [
       "         Date Symbol  Adj Close  Close  High  Low  Open  Volume\n",
       "0  2010-01-04    MMM        NaN    NaN   NaN  NaN   NaN     NaN\n",
       "1  2010-01-05    MMM        NaN    NaN   NaN  NaN   NaN     NaN\n",
       "2  2010-01-06    MMM        NaN    NaN   NaN  NaN   NaN     NaN"
      ]
     },
     "execution_count": 22,
     "metadata": {},
     "output_type": "execute_result"
    }
   ],
   "source": [
    "df_stocks[:3]"
   ]
  },
  {
   "cell_type": "code",
   "execution_count": 26,
   "id": "a143c4e3-e9eb-4c5b-9741-76d0d42cda4d",
   "metadata": {},
   "outputs": [
    {
     "data": {
      "text/plain": [
       "1891536"
      ]
     },
     "execution_count": 26,
     "metadata": {},
     "output_type": "execute_result"
    }
   ],
   "source": [
    "len(df_stocks)"
   ]
  },
  {
   "cell_type": "code",
   "execution_count": 27,
   "id": "06132a6e-187d-4f7c-a646-05293ce725eb",
   "metadata": {},
   "outputs": [],
   "source": [
    "drop_na_stocks = df_stocks.dropna().copy() # this will drop any column with an na. This is likely too much cleaning, but just to understand this a little better"
   ]
  },
  {
   "cell_type": "code",
   "execution_count": 28,
   "id": "0093e490-7091-4d21-bf83-984b11ea7d57",
   "metadata": {},
   "outputs": [
    {
     "data": {
      "text/html": [
       "<div>\n",
       "<style scoped>\n",
       "    .dataframe tbody tr th:only-of-type {\n",
       "        vertical-align: middle;\n",
       "    }\n",
       "\n",
       "    .dataframe tbody tr th {\n",
       "        vertical-align: top;\n",
       "    }\n",
       "\n",
       "    .dataframe thead th {\n",
       "        text-align: right;\n",
       "    }\n",
       "</style>\n",
       "<table border=\"1\" class=\"dataframe\">\n",
       "  <thead>\n",
       "    <tr style=\"text-align: right;\">\n",
       "      <th></th>\n",
       "      <th>Date</th>\n",
       "      <th>Symbol</th>\n",
       "      <th>Adj Close</th>\n",
       "      <th>Close</th>\n",
       "      <th>High</th>\n",
       "      <th>Low</th>\n",
       "      <th>Open</th>\n",
       "      <th>Volume</th>\n",
       "    </tr>\n",
       "  </thead>\n",
       "  <tbody>\n",
       "    <tr>\n",
       "      <th>3768</th>\n",
       "      <td>2010-01-04</td>\n",
       "      <td>AOS</td>\n",
       "      <td>5.937266</td>\n",
       "      <td>7.435000</td>\n",
       "      <td>7.480000</td>\n",
       "      <td>7.261667</td>\n",
       "      <td>7.295000</td>\n",
       "      <td>1104600.0</td>\n",
       "    </tr>\n",
       "    <tr>\n",
       "      <th>3769</th>\n",
       "      <td>2010-01-05</td>\n",
       "      <td>AOS</td>\n",
       "      <td>5.861404</td>\n",
       "      <td>7.340000</td>\n",
       "      <td>7.431667</td>\n",
       "      <td>7.308333</td>\n",
       "      <td>7.431667</td>\n",
       "      <td>1207200.0</td>\n",
       "    </tr>\n",
       "    <tr>\n",
       "      <th>3770</th>\n",
       "      <td>2010-01-06</td>\n",
       "      <td>AOS</td>\n",
       "      <td>5.864068</td>\n",
       "      <td>7.343333</td>\n",
       "      <td>7.405000</td>\n",
       "      <td>7.301667</td>\n",
       "      <td>7.335000</td>\n",
       "      <td>663000.0</td>\n",
       "    </tr>\n",
       "    <tr>\n",
       "      <th>3771</th>\n",
       "      <td>2010-01-07</td>\n",
       "      <td>AOS</td>\n",
       "      <td>5.881369</td>\n",
       "      <td>7.365000</td>\n",
       "      <td>7.425000</td>\n",
       "      <td>7.311667</td>\n",
       "      <td>7.356667</td>\n",
       "      <td>564000.0</td>\n",
       "    </tr>\n",
       "    <tr>\n",
       "      <th>3772</th>\n",
       "      <td>2010-01-08</td>\n",
       "      <td>AOS</td>\n",
       "      <td>5.967879</td>\n",
       "      <td>7.473333</td>\n",
       "      <td>7.485000</td>\n",
       "      <td>7.311667</td>\n",
       "      <td>7.331667</td>\n",
       "      <td>504600.0</td>\n",
       "    </tr>\n",
       "    <tr>\n",
       "      <th>...</th>\n",
       "      <td>...</td>\n",
       "      <td>...</td>\n",
       "      <td>...</td>\n",
       "      <td>...</td>\n",
       "      <td>...</td>\n",
       "      <td>...</td>\n",
       "      <td>...</td>\n",
       "      <td>...</td>\n",
       "    </tr>\n",
       "    <tr>\n",
       "      <th>1876459</th>\n",
       "      <td>2024-12-16</td>\n",
       "      <td>XYL</td>\n",
       "      <td>120.779999</td>\n",
       "      <td>120.779999</td>\n",
       "      <td>122.570000</td>\n",
       "      <td>120.000000</td>\n",
       "      <td>120.720001</td>\n",
       "      <td>1515900.0</td>\n",
       "    </tr>\n",
       "    <tr>\n",
       "      <th>1876460</th>\n",
       "      <td>2024-12-17</td>\n",
       "      <td>XYL</td>\n",
       "      <td>120.769997</td>\n",
       "      <td>120.769997</td>\n",
       "      <td>121.760002</td>\n",
       "      <td>119.730003</td>\n",
       "      <td>119.730003</td>\n",
       "      <td>2009200.0</td>\n",
       "    </tr>\n",
       "    <tr>\n",
       "      <th>1876461</th>\n",
       "      <td>2024-12-18</td>\n",
       "      <td>XYL</td>\n",
       "      <td>116.919998</td>\n",
       "      <td>116.919998</td>\n",
       "      <td>121.559998</td>\n",
       "      <td>116.879997</td>\n",
       "      <td>120.790001</td>\n",
       "      <td>1638500.0</td>\n",
       "    </tr>\n",
       "    <tr>\n",
       "      <th>1876462</th>\n",
       "      <td>2024-12-19</td>\n",
       "      <td>XYL</td>\n",
       "      <td>116.430000</td>\n",
       "      <td>116.430000</td>\n",
       "      <td>118.919998</td>\n",
       "      <td>116.129997</td>\n",
       "      <td>117.440002</td>\n",
       "      <td>1708000.0</td>\n",
       "    </tr>\n",
       "    <tr>\n",
       "      <th>1876463</th>\n",
       "      <td>2024-12-20</td>\n",
       "      <td>XYL</td>\n",
       "      <td>117.139999</td>\n",
       "      <td>117.139999</td>\n",
       "      <td>118.120003</td>\n",
       "      <td>115.900002</td>\n",
       "      <td>116.070000</td>\n",
       "      <td>2799600.0</td>\n",
       "    </tr>\n",
       "  </tbody>\n",
       "</table>\n",
       "<p>617831 rows × 8 columns</p>\n",
       "</div>"
      ],
      "text/plain": [
       "               Date Symbol   Adj Close       Close        High         Low  \\\n",
       "3768     2010-01-04    AOS    5.937266    7.435000    7.480000    7.261667   \n",
       "3769     2010-01-05    AOS    5.861404    7.340000    7.431667    7.308333   \n",
       "3770     2010-01-06    AOS    5.864068    7.343333    7.405000    7.301667   \n",
       "3771     2010-01-07    AOS    5.881369    7.365000    7.425000    7.311667   \n",
       "3772     2010-01-08    AOS    5.967879    7.473333    7.485000    7.311667   \n",
       "...             ...    ...         ...         ...         ...         ...   \n",
       "1876459  2024-12-16    XYL  120.779999  120.779999  122.570000  120.000000   \n",
       "1876460  2024-12-17    XYL  120.769997  120.769997  121.760002  119.730003   \n",
       "1876461  2024-12-18    XYL  116.919998  116.919998  121.559998  116.879997   \n",
       "1876462  2024-12-19    XYL  116.430000  116.430000  118.919998  116.129997   \n",
       "1876463  2024-12-20    XYL  117.139999  117.139999  118.120003  115.900002   \n",
       "\n",
       "               Open     Volume  \n",
       "3768       7.295000  1104600.0  \n",
       "3769       7.431667  1207200.0  \n",
       "3770       7.335000   663000.0  \n",
       "3771       7.356667   564000.0  \n",
       "3772       7.331667   504600.0  \n",
       "...             ...        ...  \n",
       "1876459  120.720001  1515900.0  \n",
       "1876460  119.730003  2009200.0  \n",
       "1876461  120.790001  1638500.0  \n",
       "1876462  117.440002  1708000.0  \n",
       "1876463  116.070000  2799600.0  \n",
       "\n",
       "[617831 rows x 8 columns]"
      ]
     },
     "execution_count": 28,
     "metadata": {},
     "output_type": "execute_result"
    }
   ],
   "source": [
    "drop_na_stocks"
   ]
  },
  {
   "cell_type": "code",
   "execution_count": null,
   "id": "3a5e7e26-a3d7-4cb5-9b3b-e28f97183469",
   "metadata": {},
   "outputs": [],
   "source": []
  }
 ],
 "metadata": {
  "kernelspec": {
   "display_name": "Python 3 (ipykernel)",
   "language": "python",
   "name": "python3"
  },
  "language_info": {
   "codemirror_mode": {
    "name": "ipython",
    "version": 3
   },
   "file_extension": ".py",
   "mimetype": "text/x-python",
   "name": "python",
   "nbconvert_exporter": "python",
   "pygments_lexer": "ipython3",
   "version": "3.9.7"
  }
 },
 "nbformat": 4,
 "nbformat_minor": 5
}
